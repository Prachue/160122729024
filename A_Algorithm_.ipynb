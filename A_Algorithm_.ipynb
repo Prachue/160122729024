{
  "nbformat": 4,
  "nbformat_minor": 0,
  "metadata": {
    "colab": {
      "provenance": [],
      "include_colab_link": true
    },
    "kernelspec": {
      "name": "python3",
      "display_name": "Python 3"
    },
    "language_info": {
      "name": "python"
    }
  },
  "cells": [
    {
      "cell_type": "markdown",
      "metadata": {
        "id": "view-in-github",
        "colab_type": "text"
      },
      "source": [
        "<a href=\"https://colab.research.google.com/github/Prachue/160122729024/blob/main/A_Algorithm_.ipynb\" target=\"_parent\"><img src=\"https://colab.research.google.com/assets/colab-badge.svg\" alt=\"Open In Colab\"/></a>"
      ]
    },
    {
      "cell_type": "code",
      "execution_count": null,
      "metadata": {
        "colab": {
          "base_uri": "https://localhost:8080/"
        },
        "id": "mVXFfiNligYU",
        "outputId": "b206e1af-0776-4255-94dd-8cec95cc00be"
      },
      "outputs": [
        {
          "output_type": "stream",
          "name": "stdout",
          "text": [
            "Path from A to G is: \n",
            "['A', 'E', 'D', 'G']\n"
          ]
        },
        {
          "output_type": "execute_result",
          "data": {
            "text/plain": [
              "['A', 'E', 'D', 'G']"
            ]
          },
          "metadata": {},
          "execution_count": 1
        }
      ],
      "source": [
        "def astaralgo(start_node, stop_node):\n",
        "    open_set = set([start_node])\n",
        "    closed_set = set()\n",
        "    parents = {}\n",
        "    g = {}\n",
        "    g[start_node] = 0\n",
        "    parents[start_node] = start_node\n",
        "    while len(open_set) > 0:\n",
        "        n = None\n",
        "        for v in open_set:\n",
        "            if n is None or g[v] + heuristic(v) < g[n] + heuristic(n):\n",
        "                n = v\n",
        "        if n is None:\n",
        "            print(\"Path doesn't exist\")\n",
        "            return None\n",
        "        if n == stop_node:\n",
        "            path = []\n",
        "            while parents[n] != n:\n",
        "                path.append(n)\n",
        "                n = parents[n]\n",
        "            path.append(start_node)\n",
        "            path.reverse()\n",
        "            print(f\"Path from {start_node} to {stop_node} is: \")\n",
        "            print(path)\n",
        "            return path\n",
        "        for (m, weight) in get_neighbors(n):\n",
        "            if m not in open_set and m not in closed_set:\n",
        "                open_set.add(m)\n",
        "                parents[m] = n\n",
        "                g[m] = g[n] + weight\n",
        "            else:\n",
        "                if g[m] > g[n] + weight:\n",
        "                    g[m] = g[n] + weight\n",
        "                    parents[m] = n\n",
        "\n",
        "                    if m in closed_set:\n",
        "                        closed_set.remove(m)\n",
        "                        open_set.add(m)\n",
        "        open_set.remove(n)\n",
        "        closed_set.add(n)\n",
        "    print(\"No path exists\")\n",
        "    return None\n",
        "def get_neighbors(v):\n",
        "    if v in Graph_nodes:\n",
        "        return Graph_nodes[v]\n",
        "    else:\n",
        "        return []\n",
        "def heuristic(n):\n",
        "    H_dist = {\n",
        "        'A': 11,\n",
        "        'B': 6,\n",
        "        'C': 99,\n",
        "        'D': 1,\n",
        "        'E': 7,\n",
        "        'G': 0,\n",
        "    }\n",
        "    return H_dist[n]\n",
        "Graph_nodes = {\n",
        "    'A': [('B', 2), ('E', 3)],\n",
        "    'B': [('C', 1), ('G', 9)],\n",
        "    'C': [],\n",
        "    'E': [('D', 6)],\n",
        "    'D': [('G', 1)],\n",
        "}\n",
        "\n",
        "astaralgo('A', 'G')"
      ]
    }
  ]
}